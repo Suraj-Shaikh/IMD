{
 "cells": [
  {
   "cell_type": "code",
   "execution_count": 2,
   "id": "17679d93",
   "metadata": {},
   "outputs": [],
   "source": [
    "import imdlib as imd\n",
    "import numpy as np\n",
    "import pandas as pd\n",
    "import xarray as xr\n"
   ]
  },
  {
   "cell_type": "code",
   "execution_count": 3,
   "id": "9a5ce965",
   "metadata": {},
   "outputs": [
    {
     "name": "stdout",
     "output_type": "stream",
     "text": [
      "Downloading: mintemp for year 2001\n",
      "Downloading: mintemp for year 2002\n",
      "Downloading: mintemp for year 2003\n",
      "Downloading: mintemp for year 2004\n",
      "Downloading: mintemp for year 2005\n",
      "Downloading: mintemp for year 2006\n",
      "Downloading: mintemp for year 2007\n",
      "Downloading: mintemp for year 2008\n",
      "Downloading: mintemp for year 2009\n",
      "Downloading: mintemp for year 2010\n",
      "Downloading: mintemp for year 2011\n",
      "Downloading: mintemp for year 2012\n",
      "Downloading: mintemp for year 2013\n",
      "Downloading: mintemp for year 2014\n",
      "Downloading: mintemp for year 2015\n",
      "Downloading: mintemp for year 2016\n",
      "Downloading: mintemp for year 2017\n",
      "Downloading: mintemp for year 2018\n",
      "Downloading: mintemp for year 2019\n",
      "Downloading: mintemp for year 2020\n",
      "Downloading: mintemp for year 2021\n",
      "Downloading: mintemp for year 2022\n",
      "Download Successful !!!\n"
     ]
    },
    {
     "data": {
      "text/plain": [
       "<imdlib.core.IMD at 0x134fafadfa0>"
      ]
     },
     "execution_count": 3,
     "metadata": {},
     "output_type": "execute_result"
    }
   ],
   "source": [
    "start_yr = 2001 # give starting year from which you want to download/convert data: 1901 ownwards for rainfall, 1951 for tmax and tmin\n",
    "end_yr = 2022 # give ending year upto which you want to download/convert data\n",
    "variable = 'tmin' # give variable name (rain for rainfall, tmax or tmin for min or max temperature)\n",
    "file_format = 'yearwise' # other option (None), which will assume deafult imd naming convention\n",
    "imd.get_data(variable, start_yr, end_yr, fn_format='yearwise', file_dir=r'C:\\Users\\HP\\Desktop\\Suraj\\IMD_Grid')"
   ]
  },
  {
   "cell_type": "code",
   "execution_count": 4,
   "id": "b86160dc",
   "metadata": {},
   "outputs": [],
   "source": [
    "file_dir=r'C:\\Users\\HP\\Desktop\\Suraj\\IMD_Grid'\n",
    "data = imd.open_data(variable, start_yr, end_yr,'yearwise', file_dir)"
   ]
  },
  {
   "cell_type": "code",
   "execution_count": 10,
   "id": "3486ed5f",
   "metadata": {},
   "outputs": [
    {
     "data": {
      "text/html": [
       "<div>\n",
       "<style scoped>\n",
       "    .dataframe tbody tr th:only-of-type {\n",
       "        vertical-align: middle;\n",
       "    }\n",
       "\n",
       "    .dataframe tbody tr th {\n",
       "        vertical-align: top;\n",
       "    }\n",
       "\n",
       "    .dataframe thead th {\n",
       "        text-align: right;\n",
       "    }\n",
       "</style>\n",
       "<table border=\"1\" class=\"dataframe\">\n",
       "  <thead>\n",
       "    <tr style=\"text-align: right;\">\n",
       "      <th></th>\n",
       "      <th></th>\n",
       "      <th></th>\n",
       "      <th>tmin</th>\n",
       "    </tr>\n",
       "    <tr>\n",
       "      <th>time</th>\n",
       "      <th>lat</th>\n",
       "      <th>lon</th>\n",
       "      <th></th>\n",
       "    </tr>\n",
       "  </thead>\n",
       "  <tbody>\n",
       "    <tr>\n",
       "      <th rowspan=\"5\" valign=\"top\">2001-01-01</th>\n",
       "      <th rowspan=\"5\" valign=\"top\">7.5</th>\n",
       "      <th>67.5</th>\n",
       "      <td>99.900002</td>\n",
       "    </tr>\n",
       "    <tr>\n",
       "      <th>68.5</th>\n",
       "      <td>99.900002</td>\n",
       "    </tr>\n",
       "    <tr>\n",
       "      <th>69.5</th>\n",
       "      <td>99.900002</td>\n",
       "    </tr>\n",
       "    <tr>\n",
       "      <th>70.5</th>\n",
       "      <td>99.900002</td>\n",
       "    </tr>\n",
       "    <tr>\n",
       "      <th>71.5</th>\n",
       "      <td>99.900002</td>\n",
       "    </tr>\n",
       "    <tr>\n",
       "      <th>...</th>\n",
       "      <th>...</th>\n",
       "      <th>...</th>\n",
       "      <td>...</td>\n",
       "    </tr>\n",
       "    <tr>\n",
       "      <th rowspan=\"5\" valign=\"top\">2022-12-31</th>\n",
       "      <th rowspan=\"5\" valign=\"top\">37.5</th>\n",
       "      <th>93.5</th>\n",
       "      <td>99.900002</td>\n",
       "    </tr>\n",
       "    <tr>\n",
       "      <th>94.5</th>\n",
       "      <td>99.900002</td>\n",
       "    </tr>\n",
       "    <tr>\n",
       "      <th>95.5</th>\n",
       "      <td>99.900002</td>\n",
       "    </tr>\n",
       "    <tr>\n",
       "      <th>96.5</th>\n",
       "      <td>99.900002</td>\n",
       "    </tr>\n",
       "    <tr>\n",
       "      <th>97.5</th>\n",
       "      <td>99.900002</td>\n",
       "    </tr>\n",
       "  </tbody>\n",
       "</table>\n",
       "<p>7721635 rows × 1 columns</p>\n",
       "</div>"
      ],
      "text/plain": [
       "                           tmin\n",
       "time       lat  lon            \n",
       "2001-01-01 7.5  67.5  99.900002\n",
       "                68.5  99.900002\n",
       "                69.5  99.900002\n",
       "                70.5  99.900002\n",
       "                71.5  99.900002\n",
       "...                         ...\n",
       "2022-12-31 37.5 93.5  99.900002\n",
       "                94.5  99.900002\n",
       "                95.5  99.900002\n",
       "                96.5  99.900002\n",
       "                97.5  99.900002\n",
       "\n",
       "[7721635 rows x 1 columns]"
      ]
     },
     "execution_count": 10,
     "metadata": {},
     "output_type": "execute_result"
    }
   ],
   "source": [
    "df_tmin1 = data.get_xarray().to_dataframe()\n",
    "df_tmin1"
   ]
  },
  {
   "cell_type": "code",
   "execution_count": 5,
   "id": "6651a95d",
   "metadata": {},
   "outputs": [
    {
     "name": "stdout",
     "output_type": "stream",
     "text": [
      "1 31 31 67.5 7.5\n"
     ]
    }
   ],
   "source": [
    "if variable == 'rain':\n",
    "    grid_size = 0.25 # grid spacing in deg\n",
    "    y_count = 129 # no of grids in y direction\n",
    "    x_count = 135 # no of grids in x direction\n",
    "    x = 66.5 # starting longitude taken from control file (.ctl)\n",
    "    y = 6.5 # starting latitude taken from control file (.ctl)\n",
    "elif variable == 'tmax' or variable == 'tmin':\n",
    "    grid_size = 1 # grid spacing in deg\n",
    "    y_count = 31 # no of grids in y direction\n",
    "    x_count = 31 # no of grids in x direction\n",
    "    x = 67.5 # starting longitude taken from control file (.ctl)\n",
    "    y = 7.5 # starting latitude taken from control file (.ctl)\n",
    "\n",
    "print(grid_size,x_count, y_count, x, y)"
   ]
  },
  {
   "cell_type": "code",
   "execution_count": 6,
   "id": "31aece3b",
   "metadata": {
    "scrolled": true
   },
   "outputs": [
    {
     "name": "stdout",
     "output_type": "stream",
     "text": [
      "(8035, 31, 31)\n"
     ]
    }
   ],
   "source": [
    "data\n",
    "data.shape\n",
    "np_array = data.data"
   ]
  },
  {
   "cell_type": "code",
   "execution_count": 7,
   "id": "2a983025",
   "metadata": {},
   "outputs": [],
   "source": [
    "years_no = (end_yr - start_yr) + 1\n",
    "#print(years_no)"
   ]
  },
  {
   "cell_type": "code",
   "execution_count": 8,
   "id": "d763b394",
   "metadata": {},
   "outputs": [
    {
     "name": "stdout",
     "output_type": "stream",
     "text": [
      "File for 2001_tmin is saved\n",
      "File for 2002_tmin is saved\n",
      "File for 2003_tmin is saved\n",
      "File for 2004_tmin is saved\n",
      "File for 2005_tmin is saved\n",
      "File for 2006_tmin is saved\n",
      "File for 2007_tmin is saved\n",
      "File for 2008_tmin is saved\n",
      "File for 2009_tmin is saved\n",
      "File for 2010_tmin is saved\n",
      "File for 2011_tmin is saved\n",
      "File for 2012_tmin is saved\n",
      "File for 2013_tmin is saved\n",
      "File for 2014_tmin is saved\n",
      "File for 2015_tmin is saved\n",
      "File for 2016_tmin is saved\n",
      "File for 2017_tmin is saved\n",
      "File for 2018_tmin is saved\n",
      "File for 2019_tmin is saved\n",
      "File for 2020_tmin is saved\n",
      "File for 2021_tmin is saved\n",
      "File for 2022_tmin is saved\n",
      "CSV conversion successful !\n"
     ]
    }
   ],
   "source": [
    "day = 0\n",
    "for yr in range(0,years_no):\n",
    "    f = open(r'C:\\\\Users\\\\HP\\\\Desktop\\\\Suraj\\\\IMD_Grid\\\\tmin\\\\' + str(start_yr+yr)+\"_\"+str(variable)+\".csv\",'w') # just change the path where you want to save csv file\n",
    "    if ((start_yr+yr) % 4 == 0) and ((start_yr+yr) % 100 != 0):  # check for leap year\n",
    "        days = 366\n",
    "        count = yr + days\n",
    "    elif ((start_yr+yr) % 4 == 0) and ((start_yr+yr) % 100 == 0) and ((start_yr+yr) % 400 == 0):\n",
    "        days = 366\n",
    "        count = yr + days\n",
    "    else:\n",
    "        days = 365\n",
    "        count = yr + days\n",
    "\n",
    "    day = day + days\n",
    "\n",
    "    f.write(\"X,Y,\")\n",
    "    for d in range(0, days):\n",
    "        f.write(str(d+1))\n",
    "        f.write(\",\")\n",
    "    f.write(\"\\n\")\n",
    "    #print(np_array[364,0,0])\n",
    "    for j in range(0, y_count):\n",
    "\n",
    "        for i in range(0, x_count):\n",
    "\n",
    "            f.write(str((i * grid_size) + x))\n",
    "            f.write(\",\")\n",
    "            f.write(str((j * grid_size) + y))\n",
    "            f.write(\",\")\n",
    "            time = 0\n",
    "            for k in range(day-days, day):\n",
    "\n",
    "                val = np_array[k,i,j]\n",
    "                if val == 99.9000015258789 or val == -999:\n",
    "                    f.write(str(-9999))\n",
    "                    f.write(\",\")\n",
    "                else:\n",
    "                    f.write(str(val))\n",
    "                    f.write(\",\")\n",
    "\n",
    "\n",
    "            f.write(\"\\n\")\n",
    "    print(\"File for \" + str(start_yr + yr) + \"_\" + str(variable) + \" is saved\")\n",
    "print(\"CSV conversion successful !\")"
   ]
  },
  {
   "cell_type": "code",
   "execution_count": null,
   "id": "08c3c4ee",
   "metadata": {},
   "outputs": [],
   "source": []
  }
 ],
 "metadata": {
  "kernelspec": {
   "display_name": "Python 3 (ipykernel)",
   "language": "python",
   "name": "python3"
  },
  "language_info": {
   "codemirror_mode": {
    "name": "ipython",
    "version": 3
   },
   "file_extension": ".py",
   "mimetype": "text/x-python",
   "name": "python",
   "nbconvert_exporter": "python",
   "pygments_lexer": "ipython3",
   "version": "3.9.13"
  }
 },
 "nbformat": 4,
 "nbformat_minor": 5
}
